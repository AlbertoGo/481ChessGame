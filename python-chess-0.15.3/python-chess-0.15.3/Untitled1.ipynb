{
 "cells": [
  {
   "cell_type": "code",
   "execution_count": 1,
   "metadata": {
    "collapsed": false
   },
   "outputs": [
    {
     "ename": "NameError",
     "evalue": "name 'test' is not defined",
     "output_type": "error",
     "traceback": [
      "\u001b[0;31m---------------------------------------------------------------------------\u001b[0m",
      "\u001b[0;31mNameError\u001b[0m                                 Traceback (most recent call last)",
      "\u001b[0;32m<ipython-input-1-108c521deba4>\u001b[0m in \u001b[0;36m<module>\u001b[0;34m()\u001b[0m\n\u001b[0;32m----> 1\u001b[0;31m \u001b[0mtest\u001b[0m\u001b[1;33m.\u001b[0m\u001b[0mpy\u001b[0m\u001b[1;33m\u001b[0m\u001b[0m\n\u001b[0m",
      "\u001b[0;31mNameError\u001b[0m: name 'test' is not defined"
     ]
    }
   ],
   "source": [
    "test.py"
   ]
  },
  {
   "cell_type": "code",
   "execution_count": 4,
   "metadata": {
    "collapsed": false
   },
   "outputs": [],
   "source": [
    "board = chess.Board()"
   ]
  },
  {
   "cell_type": "code",
   "execution_count": 3,
   "metadata": {
    "collapsed": true
   },
   "outputs": [],
   "source": [
    "import chess"
   ]
  },
  {
   "cell_type": "code",
   "execution_count": 5,
   "metadata": {
    "collapsed": false
   },
   "outputs": [
    {
     "data": {
      "image/svg+xml": [
       "<svg xmlns=\"http://www.w3.org/2000/svg\" version=\"1.1\" xmlns:xlink=\"http://www.w3.org/1999/xlink\" width=\"400\" height=\"400\"><style>.square.light {\n",
       "  fill: #ffce9e;\n",
       "}\n",
       ".square.dark {\n",
       "  fill: #d18b47;\n",
       "}\n",
       "</style><defs><g id=\"black-pawn\" class=\"black pawn\"><path d=\"M22 9c-2.21 0-4 1.79-4 4 0 .89.29 1.71.78 2.38-1.95 1.12-3.28 3.21-3.28 5.62 0 2.03.94 3.84 2.41 5.03-3 1.06-7.41 5.55-7.41 13.47h23c0-7.92-4.41-12.41-7.41-13.47 1.47-1.19 2.41-3 2.41-5.03 0-2.41-1.33-4.5-3.28-5.62.49-.67.78-1.49.78-2.38 0-2.21-1.79-4-4-4z\" stroke=\"#000\" stroke-width=\"1.5\" stroke-linecap=\"round\"/></g><g id=\"white-bishop\" class=\"white bishop\" fill=\"none\" fill-rule=\"evenodd\" stroke=\"#000\" stroke-width=\"1.5\" stroke-linecap=\"round\" stroke-linejoin=\"round\"><g fill=\"#fff\" stroke-linecap=\"butt\"><path d=\"M9 36c3.39-.97 10.11.43 13.5-2 3.39 2.43 10.11 1.03 13.5 2 0 0 1.65.54 3 2-.68.97-1.65.99-3 .5-3.39-.97-10.11.46-13.5-1-3.39 1.46-10.11.03-13.5 1-1.354.49-2.323.47-3-.5 1.354-1.94 3-2 3-2zM15 32c2.5 2.5 12.5 2.5 15 0 .5-1.5 0-2 0-2 0-2.5-2.5-4-2.5-4 5.5-1.5 6-11.5-5-15.5-11 4-10.5 14-5 15.5 0 0-2.5 1.5-2.5 4 0 0-.5.5 0 2zM25 8a2.5 2.5 0 1 1-5 0 2.5 2.5 0 1 1 5 0z\"/></g><path d=\"M17.5 26h10M15 30h15m-7.5-14.5v5M20 18h5\" stroke-linejoin=\"miter\"/></g><g id=\"white-queen\" class=\"white queen\" fill=\"#fff\" fill-rule=\"evenodd\" stroke=\"#000\" stroke-width=\"1.5\" stroke-linecap=\"round\" stroke-linejoin=\"round\"><path d=\"M8 12a2 2 0 1 1-4 0 2 2 0 1 1 4 0zM24.5 7.5a2 2 0 1 1-4 0 2 2 0 1 1 4 0zM41 12a2 2 0 1 1-4 0 2 2 0 1 1 4 0zM16 8.5a2 2 0 1 1-4 0 2 2 0 1 1 4 0zM33 9a2 2 0 1 1-4 0 2 2 0 1 1 4 0z\"/><path d=\"M9 26c8.5-1.5 21-1.5 27 0l2-12-7 11V11l-5.5 13.5-3-15-3 15-5.5-14V25L7 14l2 12zM9 26c0 2 1.5 2 2.5 4 1 1.5 1 1 .5 3.5-1.5 1-1.5 2.5-1.5 2.5-1.5 1.5.5 2.5.5 2.5 6.5 1 16.5 1 23 0 0 0 1.5-1 0-2.5 0 0 .5-1.5-1-2.5-.5-2.5-.5-2 .5-3.5 1-2 2.5-2 2.5-4-8.5-1.5-18.5-1.5-27 0z\" stroke-linecap=\"butt\"/><path d=\"M11.5 30c3.5-1 18.5-1 22 0M12 33.5c6-1 15-1 21 0\" fill=\"none\"/></g><g id=\"black-bishop\" class=\"black bishop\" fill=\"none\" fill-rule=\"evenodd\" stroke=\"#000\" stroke-width=\"1.5\" stroke-linecap=\"round\" stroke-linejoin=\"round\"><path d=\"M9 36c3.39-.97 10.11.43 13.5-2 3.39 2.43 10.11 1.03 13.5 2 0 0 1.65.54 3 2-.68.97-1.65.99-3 .5-3.39-.97-10.11.46-13.5-1-3.39 1.46-10.11.03-13.5 1-1.354.49-2.323.47-3-.5 1.354-1.94 3-2 3-2zm6-4c2.5 2.5 12.5 2.5 15 0 .5-1.5 0-2 0-2 0-2.5-2.5-4-2.5-4 5.5-1.5 6-11.5-5-15.5-11 4-10.5 14-5 15.5 0 0-2.5 1.5-2.5 4 0 0-.5.5 0 2zM25 8a2.5 2.5 0 1 1-5 0 2.5 2.5 0 1 1 5 0z\" fill=\"#000\" stroke-linecap=\"butt\"/><path d=\"M17.5 26h10M15 30h15m-7.5-14.5v5M20 18h5\" stroke=\"#fff\" stroke-linejoin=\"miter\"/></g><g id=\"black-rook\" class=\"black rook\" fill=\"0\" fill-rule=\"evenodd\" stroke=\"#000\" stroke-width=\"1.5\" stroke-linecap=\"round\" stroke-linejoin=\"round\"><path d=\"M9 39h27v-3H9v3zM12.5 32l1.5-2.5h17l1.5 2.5h-20zM12 36v-4h21v4H12z\" stroke-linecap=\"butt\"/><path d=\"M14 29.5v-13h17v13H14z\" stroke-linecap=\"butt\" stroke-linejoin=\"miter\"/><path d=\"M14 16.5L11 14h23l-3 2.5H14zM11 14V9h4v2h5V9h5v2h5V9h4v5H11z\" stroke-linecap=\"butt\"/><path d=\"M12 35.5h21M13 31.5h19M14 29.5h17M14 16.5h17M11 14h23\" fill=\"none\" stroke=\"#fff\" stroke-width=\"1\" stroke-linejoin=\"miter\"/></g><g id=\"white-knight\" class=\"white knight\" fill=\"none\" fill-rule=\"evenodd\" stroke=\"#000\" stroke-width=\"1.5\" stroke-linecap=\"round\" stroke-linejoin=\"round\"><path d=\"M22 10c10.5 1 16.5 8 16 29H15c0-9 10-6.5 8-21M24 18c.38 2.91-5.55 7.37-8 9-3 2-2.82 4.34-5 4-1.042-.94 1.41-3.04 0-3-1 0 .19 1.23-1 2-1 0-4.003 1-4-4 0-2 6-12 6-12s1.89-1.9 2-3.5c-.73-.994-.5-2-.5-3 1-1 3 2.5 3 2.5h2s.78-1.992 2.5-3c1 0 1 3 1 3\" fill=\"#fff\"/><path d=\"M9.5 25.5a.5.5 0 1 1-1 0 .5.5 0 1 1 1 0zM14.933 15.75a.5 1.5 30 1 1-.866-.5.5 1.5 30 1 1 .866.5z\" fill=\"#000\"/></g><g id=\"white-rook\" class=\"white rook\" fill=\"#fff\" fill-rule=\"evenodd\" stroke=\"#000\" stroke-width=\"1.5\" stroke-linecap=\"round\" stroke-linejoin=\"round\"><path d=\"M9 39h27v-3H9v3zM12 36v-4h21v4H12zM11 14V9h4v2h5V9h5v2h5V9h4v5\" stroke-linecap=\"butt\"/><path d=\"M34 14l-3 3H14l-3-3\"/><path d=\"M31 17v12.5H14V17\" stroke-linecap=\"butt\" stroke-linejoin=\"miter\"/><path d=\"M31 29.5l1.5 2.5h-20l1.5-2.5\"/><path d=\"M11 14h23\" fill=\"none\" stroke-linejoin=\"miter\"/></g><g id=\"white-pawn\" class=\"white pawn\"><path d=\"M22 9c-2.21 0-4 1.79-4 4 0 .89.29 1.71.78 2.38-1.95 1.12-3.28 3.21-3.28 5.62 0 2.03.94 3.84 2.41 5.03-3 1.06-7.41 5.55-7.41 13.47h23c0-7.92-4.41-12.41-7.41-13.47 1.47-1.19 2.41-3 2.41-5.03 0-2.41-1.33-4.5-3.28-5.62.49-.67.78-1.49.78-2.38 0-2.21-1.79-4-4-4z\" fill=\"#fff\" stroke=\"#000\" stroke-width=\"1.5\" stroke-linecap=\"round\"/></g><g id=\"black-knight\" class=\"black knight\" fill=\"none\" fill-rule=\"evenodd\" stroke=\"#000\" stroke-width=\"1.5\" stroke-linecap=\"round\" stroke-linejoin=\"round\"><path d=\"M22 10c10.5 1 16.5 8 16 29H15c0-9 10-6.5 8-21M24 18c.38 2.91-5.55 7.37-8 9-3 2-2.82 4.34-5 4-1.042-.94 1.41-3.04 0-3-1 0 .19 1.23-1 2-1 0-4.003 1-4-4 0-2 6-12 6-12s1.89-1.9 2-3.5c-.73-.994-.5-2-.5-3 1-1 3 2.5 3 2.5h2s.78-1.992 2.5-3c1 0 1 3 1 3\" fill=\"#000\"/><path d=\"M9.5 25.5a.5.5 0 1 1-1 0 .5.5 0 1 1 1 0zM14.933 15.75a.5 1.5 30 1 1-.866-.5.5 1.5 30 1 1 .866.5z\" fill=\"#fff\" stroke=\"#fff\"/><path d=\"M24.55 10.4l-.45 1.45.5.15c3.15 1 5.65 2.49 7.9 6.75S35.75 29.06 35.25 39l-.05.5h2.25l.05-.5c.5-10.06-.88-16.85-3.25-21.34-2.37-4.49-5.79-6.64-9.19-7.16l-.51-.1z\" fill=\"#fff\" stroke=\"none\"/></g><g id=\"black-king\" class=\"black king\" fill=\"none\" fill-rule=\"evenodd\" stroke=\"#000\" stroke-width=\"1.5\" stroke-linecap=\"round\" stroke-linejoin=\"round\"><path d=\"M22.5 11.63V6\" stroke-linejoin=\"miter\"/><path d=\"M22.5 25s4.5-7.5 3-10.5c0 0-1-2.5-3-2.5s-3 2.5-3 2.5c-1.5 3 3 10.5 3 10.5\" fill=\"#000\" stroke-linecap=\"butt\" stroke-linejoin=\"miter\"/><path d=\"M11.5 37c5.5 3.5 15.5 3.5 21 0v-7s9-4.5 6-10.5c-4-6.5-13.5-3.5-16 4V27v-3.5c-3.5-7.5-13-10.5-16-4-3 6 5 10 5 10V37z\" fill=\"#000\"/><path d=\"M20 8h5\" stroke-linejoin=\"miter\"/><path d=\"M32 29.5s8.5-4 6.03-9.65C34.15 14 25 18 22.5 24.5l.01 2.1-.01-2.1C20 18 9.906 14 6.997 19.85c-2.497 5.65 4.853 9 4.853 9M11.5 30c5.5-3 15.5-3 21 0m-21 3.5c5.5-3 15.5-3 21 0m-21 3.5c5.5-3 15.5-3 21 0\" stroke=\"#fff\"/></g><g id=\"black-queen\" class=\"black-queen\" fill=\"0\" fill-rule=\"evenodd\" stroke=\"#000\" stroke-width=\"1.5\" stroke-linecap=\"round\" stroke-linejoin=\"round\"><g fill=\"#000\" stroke=\"none\"><circle cx=\"6\" cy=\"12\" r=\"2.75\"/><circle cx=\"14\" cy=\"9\" r=\"2.75\"/><circle cx=\"22.5\" cy=\"8\" r=\"2.75\"/><circle cx=\"31\" cy=\"9\" r=\"2.75\"/><circle cx=\"39\" cy=\"12\" r=\"2.75\"/></g><path d=\"M9 26c8.5-1.5 21-1.5 27 0l2.5-12.5L31 25l-.3-14.1-5.2 13.6-3-14.5-3 14.5-5.2-13.6L14 25 6.5 13.5 9 26zM9 26c0 2 1.5 2 2.5 4 1 1.5 1 1 .5 3.5-1.5 1-1.5 2.5-1.5 2.5-1.5 1.5.5 2.5.5 2.5 6.5 1 16.5 1 23 0 0 0 1.5-1 0-2.5 0 0 .5-1.5-1-2.5-.5-2.5-.5-2 .5-3.5 1-2 2.5-2 2.5-4-8.5-1.5-18.5-1.5-27 0z\" stroke-linecap=\"butt\"/><path d=\"M11 38.5a35 35 1 0 0 23 0\" fill=\"none\" stroke-linecap=\"butt\"/><path d=\"M11 29a35 35 1 0 1 23 0M12.5 31.5h20M11.5 34.5a35 35 1 0 0 22 0M10.5 37.5a35 35 1 0 0 24 0\" fill=\"none\" stroke=\"#fff\"/></g><g id=\"white-king\" class=\"white king\" fill=\"none\" fill-rule=\"evenodd\" stroke=\"#000\" stroke-width=\"1.5\" stroke-linecap=\"round\" stroke-linejoin=\"round\"><path d=\"M22.5 11.63V6M20 8h5\" stroke-linejoin=\"miter\"/><path d=\"M22.5 25s4.5-7.5 3-10.5c0 0-1-2.5-3-2.5s-3 2.5-3 2.5c-1.5 3 3 10.5 3 10.5\" fill=\"#fff\" stroke-linecap=\"butt\" stroke-linejoin=\"miter\"/><path d=\"M11.5 37c5.5 3.5 15.5 3.5 21 0v-7s9-4.5 6-10.5c-4-6.5-13.5-3.5-16 4V27v-3.5c-3.5-7.5-13-10.5-16-4-3 6 5 10 5 10V37z\" fill=\"#fff\"/><path d=\"M11.5 30c5.5-3 15.5-3 21 0m-21 3.5c5.5-3 15.5-3 21 0m-21 3.5c5.5-3 15.5-3 21 0\"/></g></defs><rect x=\"20\" y=\"335\" class=\"square dark a1\" width=\"45\" height=\"45\" style=\"stroke: none;\" /><use xlink:href=\"#white-rook\" x=\"20\" y=\"335\" /><rect x=\"65\" y=\"335\" class=\"square light b1\" width=\"45\" height=\"45\" style=\"stroke: none;\" /><use xlink:href=\"#white-knight\" x=\"65\" y=\"335\" /><rect x=\"110\" y=\"335\" class=\"square dark c1\" width=\"45\" height=\"45\" style=\"stroke: none;\" /><use xlink:href=\"#white-bishop\" x=\"110\" y=\"335\" /><rect x=\"155\" y=\"335\" class=\"square light d1\" width=\"45\" height=\"45\" style=\"stroke: none;\" /><use xlink:href=\"#white-queen\" x=\"155\" y=\"335\" /><rect x=\"200\" y=\"335\" class=\"square dark e1\" width=\"45\" height=\"45\" style=\"stroke: none;\" /><use xlink:href=\"#white-king\" x=\"200\" y=\"335\" /><rect x=\"245\" y=\"335\" class=\"square light f1\" width=\"45\" height=\"45\" style=\"stroke: none;\" /><use xlink:href=\"#white-bishop\" x=\"245\" y=\"335\" /><rect x=\"290\" y=\"335\" class=\"square dark g1\" width=\"45\" height=\"45\" style=\"stroke: none;\" /><use xlink:href=\"#white-knight\" x=\"290\" y=\"335\" /><rect x=\"335\" y=\"335\" class=\"square light h1\" width=\"45\" height=\"45\" style=\"stroke: none;\" /><use xlink:href=\"#white-rook\" x=\"335\" y=\"335\" /><rect x=\"20\" y=\"290\" class=\"square light a2\" width=\"45\" height=\"45\" style=\"stroke: none;\" /><use xlink:href=\"#white-pawn\" x=\"20\" y=\"290\" /><rect x=\"65\" y=\"290\" class=\"square dark b2\" width=\"45\" height=\"45\" style=\"stroke: none;\" /><use xlink:href=\"#white-pawn\" x=\"65\" y=\"290\" /><rect x=\"110\" y=\"290\" class=\"square light c2\" width=\"45\" height=\"45\" style=\"stroke: none;\" /><use xlink:href=\"#white-pawn\" x=\"110\" y=\"290\" /><rect x=\"155\" y=\"290\" class=\"square dark d2\" width=\"45\" height=\"45\" style=\"stroke: none;\" /><use xlink:href=\"#white-pawn\" x=\"155\" y=\"290\" /><rect x=\"200\" y=\"290\" class=\"square light e2\" width=\"45\" height=\"45\" style=\"stroke: none;\" /><use xlink:href=\"#white-pawn\" x=\"200\" y=\"290\" /><rect x=\"245\" y=\"290\" class=\"square dark f2\" width=\"45\" height=\"45\" style=\"stroke: none;\" /><use xlink:href=\"#white-pawn\" x=\"245\" y=\"290\" /><rect x=\"290\" y=\"290\" class=\"square light g2\" width=\"45\" height=\"45\" style=\"stroke: none;\" /><use xlink:href=\"#white-pawn\" x=\"290\" y=\"290\" /><rect x=\"335\" y=\"290\" class=\"square dark h2\" width=\"45\" height=\"45\" style=\"stroke: none;\" /><use xlink:href=\"#white-pawn\" x=\"335\" y=\"290\" /><rect x=\"20\" y=\"245\" class=\"square dark a3\" width=\"45\" height=\"45\" style=\"stroke: none;\" /><rect x=\"65\" y=\"245\" class=\"square light b3\" width=\"45\" height=\"45\" style=\"stroke: none;\" /><rect x=\"110\" y=\"245\" class=\"square dark c3\" width=\"45\" height=\"45\" style=\"stroke: none;\" /><rect x=\"155\" y=\"245\" class=\"square light d3\" width=\"45\" height=\"45\" style=\"stroke: none;\" /><rect x=\"200\" y=\"245\" class=\"square dark e3\" width=\"45\" height=\"45\" style=\"stroke: none;\" /><rect x=\"245\" y=\"245\" class=\"square light f3\" width=\"45\" height=\"45\" style=\"stroke: none;\" /><rect x=\"290\" y=\"245\" class=\"square dark g3\" width=\"45\" height=\"45\" style=\"stroke: none;\" /><rect x=\"335\" y=\"245\" class=\"square light h3\" width=\"45\" height=\"45\" style=\"stroke: none;\" /><rect x=\"20\" y=\"200\" class=\"square light a4\" width=\"45\" height=\"45\" style=\"stroke: none;\" /><rect x=\"65\" y=\"200\" class=\"square dark b4\" width=\"45\" height=\"45\" style=\"stroke: none;\" /><rect x=\"110\" y=\"200\" class=\"square light c4\" width=\"45\" height=\"45\" style=\"stroke: none;\" /><rect x=\"155\" y=\"200\" class=\"square dark d4\" width=\"45\" height=\"45\" style=\"stroke: none;\" /><rect x=\"200\" y=\"200\" class=\"square light e4\" width=\"45\" height=\"45\" style=\"stroke: none;\" /><rect x=\"245\" y=\"200\" class=\"square dark f4\" width=\"45\" height=\"45\" style=\"stroke: none;\" /><rect x=\"290\" y=\"200\" class=\"square light g4\" width=\"45\" height=\"45\" style=\"stroke: none;\" /><rect x=\"335\" y=\"200\" class=\"square dark h4\" width=\"45\" height=\"45\" style=\"stroke: none;\" /><rect x=\"20\" y=\"155\" class=\"square dark a5\" width=\"45\" height=\"45\" style=\"stroke: none;\" /><rect x=\"65\" y=\"155\" class=\"square light b5\" width=\"45\" height=\"45\" style=\"stroke: none;\" /><rect x=\"110\" y=\"155\" class=\"square dark c5\" width=\"45\" height=\"45\" style=\"stroke: none;\" /><rect x=\"155\" y=\"155\" class=\"square light d5\" width=\"45\" height=\"45\" style=\"stroke: none;\" /><rect x=\"200\" y=\"155\" class=\"square dark e5\" width=\"45\" height=\"45\" style=\"stroke: none;\" /><rect x=\"245\" y=\"155\" class=\"square light f5\" width=\"45\" height=\"45\" style=\"stroke: none;\" /><rect x=\"290\" y=\"155\" class=\"square dark g5\" width=\"45\" height=\"45\" style=\"stroke: none;\" /><rect x=\"335\" y=\"155\" class=\"square light h5\" width=\"45\" height=\"45\" style=\"stroke: none;\" /><rect x=\"20\" y=\"110\" class=\"square light a6\" width=\"45\" height=\"45\" style=\"stroke: none;\" /><rect x=\"65\" y=\"110\" class=\"square dark b6\" width=\"45\" height=\"45\" style=\"stroke: none;\" /><rect x=\"110\" y=\"110\" class=\"square light c6\" width=\"45\" height=\"45\" style=\"stroke: none;\" /><rect x=\"155\" y=\"110\" class=\"square dark d6\" width=\"45\" height=\"45\" style=\"stroke: none;\" /><rect x=\"200\" y=\"110\" class=\"square light e6\" width=\"45\" height=\"45\" style=\"stroke: none;\" /><rect x=\"245\" y=\"110\" class=\"square dark f6\" width=\"45\" height=\"45\" style=\"stroke: none;\" /><rect x=\"290\" y=\"110\" class=\"square light g6\" width=\"45\" height=\"45\" style=\"stroke: none;\" /><rect x=\"335\" y=\"110\" class=\"square dark h6\" width=\"45\" height=\"45\" style=\"stroke: none;\" /><rect x=\"20\" y=\"65\" class=\"square dark a7\" width=\"45\" height=\"45\" style=\"stroke: none;\" /><use xlink:href=\"#black-pawn\" x=\"20\" y=\"65\" /><rect x=\"65\" y=\"65\" class=\"square light b7\" width=\"45\" height=\"45\" style=\"stroke: none;\" /><use xlink:href=\"#black-pawn\" x=\"65\" y=\"65\" /><rect x=\"110\" y=\"65\" class=\"square dark c7\" width=\"45\" height=\"45\" style=\"stroke: none;\" /><use xlink:href=\"#black-pawn\" x=\"110\" y=\"65\" /><rect x=\"155\" y=\"65\" class=\"square light d7\" width=\"45\" height=\"45\" style=\"stroke: none;\" /><use xlink:href=\"#black-pawn\" x=\"155\" y=\"65\" /><rect x=\"200\" y=\"65\" class=\"square dark e7\" width=\"45\" height=\"45\" style=\"stroke: none;\" /><use xlink:href=\"#black-pawn\" x=\"200\" y=\"65\" /><rect x=\"245\" y=\"65\" class=\"square light f7\" width=\"45\" height=\"45\" style=\"stroke: none;\" /><use xlink:href=\"#black-pawn\" x=\"245\" y=\"65\" /><rect x=\"290\" y=\"65\" class=\"square dark g7\" width=\"45\" height=\"45\" style=\"stroke: none;\" /><use xlink:href=\"#black-pawn\" x=\"290\" y=\"65\" /><rect x=\"335\" y=\"65\" class=\"square light h7\" width=\"45\" height=\"45\" style=\"stroke: none;\" /><use xlink:href=\"#black-pawn\" x=\"335\" y=\"65\" /><rect x=\"20\" y=\"20\" class=\"square light a8\" width=\"45\" height=\"45\" style=\"stroke: none;\" /><use xlink:href=\"#black-rook\" x=\"20\" y=\"20\" /><rect x=\"65\" y=\"20\" class=\"square dark b8\" width=\"45\" height=\"45\" style=\"stroke: none;\" /><use xlink:href=\"#black-knight\" x=\"65\" y=\"20\" /><rect x=\"110\" y=\"20\" class=\"square light c8\" width=\"45\" height=\"45\" style=\"stroke: none;\" /><use xlink:href=\"#black-bishop\" x=\"110\" y=\"20\" /><rect x=\"155\" y=\"20\" class=\"square dark d8\" width=\"45\" height=\"45\" style=\"stroke: none;\" /><use xlink:href=\"#black-queen\" x=\"155\" y=\"20\" /><rect x=\"200\" y=\"20\" class=\"square light e8\" width=\"45\" height=\"45\" style=\"stroke: none;\" /><use xlink:href=\"#black-king\" x=\"200\" y=\"20\" /><rect x=\"245\" y=\"20\" class=\"square dark f8\" width=\"45\" height=\"45\" style=\"stroke: none;\" /><use xlink:href=\"#black-bishop\" x=\"245\" y=\"20\" /><rect x=\"290\" y=\"20\" class=\"square light g8\" width=\"45\" height=\"45\" style=\"stroke: none;\" /><use xlink:href=\"#black-knight\" x=\"290\" y=\"20\" /><rect x=\"335\" y=\"20\" class=\"square dark h8\" width=\"45\" height=\"45\" style=\"stroke: none;\" /><use xlink:href=\"#black-rook\" x=\"335\" y=\"20\" /><text x=\"42\" y=\"10\" text-anchor=\"middle\" alignment-baseline=\"middle\" font-size=\"14\">a</text><text x=\"42\" y=\"390\" text-anchor=\"middle\" alignment-baseline=\"middle\" font-size=\"14\">a</text><text x=\"87\" y=\"10\" text-anchor=\"middle\" alignment-baseline=\"middle\" font-size=\"14\">b</text><text x=\"87\" y=\"390\" text-anchor=\"middle\" alignment-baseline=\"middle\" font-size=\"14\">b</text><text x=\"132\" y=\"10\" text-anchor=\"middle\" alignment-baseline=\"middle\" font-size=\"14\">c</text><text x=\"132\" y=\"390\" text-anchor=\"middle\" alignment-baseline=\"middle\" font-size=\"14\">c</text><text x=\"177\" y=\"10\" text-anchor=\"middle\" alignment-baseline=\"middle\" font-size=\"14\">d</text><text x=\"177\" y=\"390\" text-anchor=\"middle\" alignment-baseline=\"middle\" font-size=\"14\">d</text><text x=\"222\" y=\"10\" text-anchor=\"middle\" alignment-baseline=\"middle\" font-size=\"14\">e</text><text x=\"222\" y=\"390\" text-anchor=\"middle\" alignment-baseline=\"middle\" font-size=\"14\">e</text><text x=\"267\" y=\"10\" text-anchor=\"middle\" alignment-baseline=\"middle\" font-size=\"14\">f</text><text x=\"267\" y=\"390\" text-anchor=\"middle\" alignment-baseline=\"middle\" font-size=\"14\">f</text><text x=\"312\" y=\"10\" text-anchor=\"middle\" alignment-baseline=\"middle\" font-size=\"14\">g</text><text x=\"312\" y=\"390\" text-anchor=\"middle\" alignment-baseline=\"middle\" font-size=\"14\">g</text><text x=\"357\" y=\"10\" text-anchor=\"middle\" alignment-baseline=\"middle\" font-size=\"14\">h</text><text x=\"357\" y=\"390\" text-anchor=\"middle\" alignment-baseline=\"middle\" font-size=\"14\">h</text><text x=\"10\" y=\"357\" text-anchor=\"middle\" alignment-baseline=\"middle\" font-size=\"14\">1</text><text x=\"390\" y=\"357\" text-anchor=\"middle\" alignment-baseline=\"middle\" font-size=\"14\">1</text><text x=\"10\" y=\"312\" text-anchor=\"middle\" alignment-baseline=\"middle\" font-size=\"14\">2</text><text x=\"390\" y=\"312\" text-anchor=\"middle\" alignment-baseline=\"middle\" font-size=\"14\">2</text><text x=\"10\" y=\"267\" text-anchor=\"middle\" alignment-baseline=\"middle\" font-size=\"14\">3</text><text x=\"390\" y=\"267\" text-anchor=\"middle\" alignment-baseline=\"middle\" font-size=\"14\">3</text><text x=\"10\" y=\"222\" text-anchor=\"middle\" alignment-baseline=\"middle\" font-size=\"14\">4</text><text x=\"390\" y=\"222\" text-anchor=\"middle\" alignment-baseline=\"middle\" font-size=\"14\">4</text><text x=\"10\" y=\"177\" text-anchor=\"middle\" alignment-baseline=\"middle\" font-size=\"14\">5</text><text x=\"390\" y=\"177\" text-anchor=\"middle\" alignment-baseline=\"middle\" font-size=\"14\">5</text><text x=\"10\" y=\"132\" text-anchor=\"middle\" alignment-baseline=\"middle\" font-size=\"14\">6</text><text x=\"390\" y=\"132\" text-anchor=\"middle\" alignment-baseline=\"middle\" font-size=\"14\">6</text><text x=\"10\" y=\"87\" text-anchor=\"middle\" alignment-baseline=\"middle\" font-size=\"14\">7</text><text x=\"390\" y=\"87\" text-anchor=\"middle\" alignment-baseline=\"middle\" font-size=\"14\">7</text><text x=\"10\" y=\"42\" text-anchor=\"middle\" alignment-baseline=\"middle\" font-size=\"14\">8</text><text x=\"390\" y=\"42\" text-anchor=\"middle\" alignment-baseline=\"middle\" font-size=\"14\">8</text></svg>"
      ],
      "text/plain": [
       "Board('rnbqkbnr/pppppppp/8/8/8/8/PPPPPPPP/RNBQKBNR w KQkq - 0 1')"
      ]
     },
     "execution_count": 5,
     "metadata": {},
     "output_type": "execute_result"
    }
   ],
   "source": [
    "board"
   ]
  },
  {
   "cell_type": "code",
   "execution_count": 11,
   "metadata": {
    "collapsed": false
   },
   "outputs": [],
   "source": [
    "L = []\n",
    "for x in board.legal_moves:\n",
    "    L.append(x)"
   ]
  },
  {
   "cell_type": "code",
   "execution_count": 8,
   "metadata": {
    "collapsed": false
   },
   "outputs": [],
   "source": [
    "a = str(board.legal_moves)"
   ]
  },
  {
   "cell_type": "code",
   "execution_count": 9,
   "metadata": {
    "collapsed": false
   },
   "outputs": [
    {
     "data": {
      "text/plain": [
       "'<LegalMoveGenerator at 0x14df908 (Na3, Nc3, Nf3, Nh3, a3, b3, c3, d3, e3, f3, g3, h3, a4, b4, c4, d4, e4, f4, g4, h4)>'"
      ]
     },
     "execution_count": 9,
     "metadata": {},
     "output_type": "execute_result"
    }
   ],
   "source": [
    "a"
   ]
  },
  {
   "cell_type": "code",
   "execution_count": 10,
   "metadata": {
    "collapsed": false
   },
   "outputs": [
    {
     "data": {
      "text/plain": [
       "'L'"
      ]
     },
     "execution_count": 10,
     "metadata": {},
     "output_type": "execute_result"
    }
   ],
   "source": [
    "a[1]"
   ]
  },
  {
   "cell_type": "code",
   "execution_count": 12,
   "metadata": {
    "collapsed": false
   },
   "outputs": [
    {
     "data": {
      "text/plain": [
       "[Move.from_uci('b1a3'),\n",
       " Move.from_uci('b1c3'),\n",
       " Move.from_uci('g1f3'),\n",
       " Move.from_uci('g1h3'),\n",
       " Move.from_uci('a2a3'),\n",
       " Move.from_uci('b2b3'),\n",
       " Move.from_uci('c2c3'),\n",
       " Move.from_uci('d2d3'),\n",
       " Move.from_uci('e2e3'),\n",
       " Move.from_uci('f2f3'),\n",
       " Move.from_uci('g2g3'),\n",
       " Move.from_uci('h2h3'),\n",
       " Move.from_uci('a2a4'),\n",
       " Move.from_uci('b2b4'),\n",
       " Move.from_uci('c2c4'),\n",
       " Move.from_uci('d2d4'),\n",
       " Move.from_uci('e2e4'),\n",
       " Move.from_uci('f2f4'),\n",
       " Move.from_uci('g2g4'),\n",
       " Move.from_uci('h2h4')]"
      ]
     },
     "execution_count": 12,
     "metadata": {},
     "output_type": "execute_result"
    }
   ],
   "source": [
    "L"
   ]
  },
  {
   "cell_type": "code",
   "execution_count": 13,
   "metadata": {
    "collapsed": false
   },
   "outputs": [
    {
     "data": {
      "text/plain": [
       "Move.from_uci('b1c3')"
      ]
     },
     "execution_count": 13,
     "metadata": {},
     "output_type": "execute_result"
    }
   ],
   "source": [
    "L[1]"
   ]
  },
  {
   "cell_type": "code",
   "execution_count": 17,
   "metadata": {
    "collapsed": false
   },
   "outputs": [
    {
     "data": {
      "text/plain": [
       "'b'"
      ]
     },
     "execution_count": 17,
     "metadata": {},
     "output_type": "execute_result"
    }
   ],
   "source": [
    "str(L[1])[0]"
   ]
  },
  {
   "cell_type": "code",
   "execution_count": 23,
   "metadata": {
    "collapsed": false
   },
   "outputs": [
    {
     "ename": "AttributeError",
     "evalue": "'str' object has no attribute 'from_square'",
     "output_type": "error",
     "traceback": [
      "\u001b[0;31m---------------------------------------------------------------------------\u001b[0m",
      "\u001b[0;31mAttributeError\u001b[0m                            Traceback (most recent call last)",
      "\u001b[0;32m<ipython-input-23-b094fccdbc78>\u001b[0m in \u001b[0;36m<module>\u001b[0;34m()\u001b[0m\n\u001b[0;32m----> 1\u001b[0;31m \u001b[0mboard\u001b[0m\u001b[1;33m.\u001b[0m\u001b[0mpush\u001b[0m\u001b[1;33m(\u001b[0m\u001b[1;34m'b1a3'\u001b[0m\u001b[1;33m)\u001b[0m\u001b[1;33m\u001b[0m\u001b[0m\n\u001b[0m",
      "\u001b[0;32mC:\\Users\\Alberto\\Desktop\\481ChessGame\\python-chess-0.15.3\\python-chess-0.15.3\\chess\\__init__.py\u001b[0m in \u001b[0;36mpush\u001b[0;34m(self, move)\u001b[0m\n\u001b[1;32m   2005\u001b[0m         \u001b[1;32mTrue\u001b[0m\u001b[1;33m\u001b[0m\u001b[0m\n\u001b[1;32m   2006\u001b[0m         \"\"\"\n\u001b[0;32m-> 2007\u001b[0;31m         \u001b[0mmove\u001b[0m \u001b[1;33m=\u001b[0m \u001b[0mself\u001b[0m\u001b[1;33m.\u001b[0m\u001b[0m_to_chess960\u001b[0m\u001b[1;33m(\u001b[0m\u001b[0mmove\u001b[0m\u001b[1;33m)\u001b[0m\u001b[1;33m\u001b[0m\u001b[0m\n\u001b[0m\u001b[1;32m   2008\u001b[0m \u001b[1;33m\u001b[0m\u001b[0m\n\u001b[1;32m   2009\u001b[0m         \u001b[1;31m# Increment fullmove number.\u001b[0m\u001b[1;33m\u001b[0m\u001b[1;33m\u001b[0m\u001b[0m\n",
      "\u001b[0;32mC:\\Users\\Alberto\\Desktop\\481ChessGame\\python-chess-0.15.3\\python-chess-0.15.3\\chess\\__init__.py\u001b[0m in \u001b[0;36m_to_chess960\u001b[0;34m(self, move)\u001b[0m\n\u001b[1;32m   3596\u001b[0m \u001b[1;33m\u001b[0m\u001b[0m\n\u001b[1;32m   3597\u001b[0m     \u001b[1;32mdef\u001b[0m \u001b[0m_to_chess960\u001b[0m\u001b[1;33m(\u001b[0m\u001b[0mself\u001b[0m\u001b[1;33m,\u001b[0m \u001b[0mmove\u001b[0m\u001b[1;33m)\u001b[0m\u001b[1;33m:\u001b[0m\u001b[1;33m\u001b[0m\u001b[0m\n\u001b[0;32m-> 3598\u001b[0;31m         \u001b[1;32mif\u001b[0m \u001b[0mmove\u001b[0m\u001b[1;33m.\u001b[0m\u001b[0mfrom_square\u001b[0m \u001b[1;32min\u001b[0m \u001b[1;33m[\u001b[0m\u001b[0mE1\u001b[0m\u001b[1;33m,\u001b[0m \u001b[0mE8\u001b[0m\u001b[1;33m]\u001b[0m \u001b[1;32mand\u001b[0m \u001b[0mmove\u001b[0m\u001b[1;33m.\u001b[0m\u001b[0mto_square\u001b[0m \u001b[1;32min\u001b[0m \u001b[1;33m[\u001b[0m\u001b[0mC1\u001b[0m\u001b[1;33m,\u001b[0m \u001b[0mG1\u001b[0m\u001b[1;33m,\u001b[0m \u001b[0mC8\u001b[0m\u001b[1;33m,\u001b[0m \u001b[0mG8\u001b[0m\u001b[1;33m]\u001b[0m \u001b[1;32mand\u001b[0m \u001b[0mself\u001b[0m\u001b[1;33m.\u001b[0m\u001b[0mpiece_type_at\u001b[0m\u001b[1;33m(\u001b[0m\u001b[0mmove\u001b[0m\u001b[1;33m.\u001b[0m\u001b[0mfrom_square\u001b[0m\u001b[1;33m)\u001b[0m \u001b[1;33m==\u001b[0m \u001b[0mKING\u001b[0m \u001b[1;32mand\u001b[0m \u001b[0mself\u001b[0m\u001b[1;33m.\u001b[0m\u001b[0mpiece_type_at\u001b[0m\u001b[1;33m(\u001b[0m\u001b[0mmove\u001b[0m\u001b[1;33m.\u001b[0m\u001b[0mto_square\u001b[0m\u001b[1;33m)\u001b[0m \u001b[1;33m!=\u001b[0m \u001b[0mROOK\u001b[0m\u001b[1;33m:\u001b[0m\u001b[1;33m\u001b[0m\u001b[0m\n\u001b[0m\u001b[1;32m   3599\u001b[0m             \u001b[1;32mif\u001b[0m \u001b[0mmove\u001b[0m\u001b[1;33m.\u001b[0m\u001b[0mfrom_square\u001b[0m \u001b[1;33m==\u001b[0m \u001b[0mE1\u001b[0m\u001b[1;33m:\u001b[0m\u001b[1;33m\u001b[0m\u001b[0m\n\u001b[1;32m   3600\u001b[0m                 \u001b[1;32mif\u001b[0m \u001b[0mmove\u001b[0m\u001b[1;33m.\u001b[0m\u001b[0mto_square\u001b[0m \u001b[1;33m==\u001b[0m \u001b[0mG1\u001b[0m\u001b[1;33m:\u001b[0m\u001b[1;33m\u001b[0m\u001b[0m\n",
      "\u001b[0;31mAttributeError\u001b[0m: 'str' object has no attribute 'from_square'"
     ]
    }
   ],
   "source": [
    "board.push('b1a3')"
   ]
  },
  {
   "cell_type": "code",
   "execution_count": 19,
   "metadata": {
    "collapsed": false
   },
   "outputs": [
    {
     "data": {
      "text/plain": [
       "[Move.from_uci('b1a3'),\n",
       " Move.from_uci('b1c3'),\n",
       " Move.from_uci('g1f3'),\n",
       " Move.from_uci('g1h3'),\n",
       " Move.from_uci('a2a3'),\n",
       " Move.from_uci('b2b3'),\n",
       " Move.from_uci('c2c3'),\n",
       " Move.from_uci('d2d3'),\n",
       " Move.from_uci('e2e3'),\n",
       " Move.from_uci('f2f3'),\n",
       " Move.from_uci('g2g3'),\n",
       " Move.from_uci('h2h3'),\n",
       " Move.from_uci('a2a4'),\n",
       " Move.from_uci('b2b4'),\n",
       " Move.from_uci('c2c4'),\n",
       " Move.from_uci('d2d4'),\n",
       " Move.from_uci('e2e4'),\n",
       " Move.from_uci('f2f4'),\n",
       " Move.from_uci('g2g4'),\n",
       " Move.from_uci('h2h4')]"
      ]
     },
     "execution_count": 19,
     "metadata": {},
     "output_type": "execute_result"
    }
   ],
   "source": [
    "L"
   ]
  },
  {
   "cell_type": "code",
   "execution_count": 20,
   "metadata": {
    "collapsed": false
   },
   "outputs": [
    {
     "data": {
      "text/plain": [
       "Move.from_uci('h2h4')"
      ]
     },
     "execution_count": 20,
     "metadata": {},
     "output_type": "execute_result"
    }
   ],
   "source": [
    "chess.Move.from_uci('h2h4')"
   ]
  },
  {
   "cell_type": "code",
   "execution_count": 24,
   "metadata": {
    "collapsed": false
   },
   "outputs": [
    {
     "data": {
      "text/plain": [
       "Move.from_uci('b1c3')"
      ]
     },
     "execution_count": 24,
     "metadata": {},
     "output_type": "execute_result"
    }
   ],
   "source": [
    "L[1]"
   ]
  },
  {
   "cell_type": "code",
   "execution_count": 26,
   "metadata": {
    "collapsed": false
   },
   "outputs": [
    {
     "ename": "TypeError",
     "evalue": "expected string or buffer",
     "output_type": "error",
     "traceback": [
      "\u001b[0;31m---------------------------------------------------------------------------\u001b[0m",
      "\u001b[0;31mTypeError\u001b[0m                                 Traceback (most recent call last)",
      "\u001b[0;32m<ipython-input-26-99b0d0e67f57>\u001b[0m in \u001b[0;36m<module>\u001b[0;34m()\u001b[0m\n\u001b[0;32m----> 1\u001b[0;31m \u001b[0mboard\u001b[0m\u001b[1;33m.\u001b[0m\u001b[0mpush_san\u001b[0m\u001b[1;33m(\u001b[0m\u001b[0mL\u001b[0m\u001b[1;33m[\u001b[0m\u001b[1;36m1\u001b[0m\u001b[1;33m]\u001b[0m\u001b[1;33m)\u001b[0m\u001b[1;33m\u001b[0m\u001b[0m\n\u001b[0m",
      "\u001b[0;32mC:\\Users\\Alberto\\Desktop\\481ChessGame\\python-chess-0.15.3\\python-chess-0.15.3\\chess\\__init__.py\u001b[0m in \u001b[0;36mpush_san\u001b[0;34m(self, san)\u001b[0m\n\u001b[1;32m   2794\u001b[0m         \u001b[0mReturns\u001b[0m \u001b[0mthe\u001b[0m \u001b[0mmove\u001b[0m\u001b[1;33m.\u001b[0m\u001b[1;33m\u001b[0m\u001b[0m\n\u001b[1;32m   2795\u001b[0m         \"\"\"\n\u001b[0;32m-> 2796\u001b[0;31m         \u001b[0mmove\u001b[0m \u001b[1;33m=\u001b[0m \u001b[0mself\u001b[0m\u001b[1;33m.\u001b[0m\u001b[0mparse_san\u001b[0m\u001b[1;33m(\u001b[0m\u001b[0msan\u001b[0m\u001b[1;33m)\u001b[0m\u001b[1;33m\u001b[0m\u001b[0m\n\u001b[0m\u001b[1;32m   2797\u001b[0m         \u001b[0mself\u001b[0m\u001b[1;33m.\u001b[0m\u001b[0mpush\u001b[0m\u001b[1;33m(\u001b[0m\u001b[0mmove\u001b[0m\u001b[1;33m)\u001b[0m\u001b[1;33m\u001b[0m\u001b[0m\n\u001b[1;32m   2798\u001b[0m         \u001b[1;32mreturn\u001b[0m \u001b[0mmove\u001b[0m\u001b[1;33m\u001b[0m\u001b[0m\n",
      "\u001b[0;32mC:\\Users\\Alberto\\Desktop\\481ChessGame\\python-chess-0.15.3\\python-chess-0.15.3\\chess\\__init__.py\u001b[0m in \u001b[0;36mparse_san\u001b[0;34m(self, san)\u001b[0m\n\u001b[1;32m   2740\u001b[0m \u001b[1;33m\u001b[0m\u001b[0m\n\u001b[1;32m   2741\u001b[0m         \u001b[1;31m# Match normal moves.\u001b[0m\u001b[1;33m\u001b[0m\u001b[1;33m\u001b[0m\u001b[0m\n\u001b[0;32m-> 2742\u001b[0;31m         \u001b[0mmatch\u001b[0m \u001b[1;33m=\u001b[0m \u001b[0mSAN_REGEX\u001b[0m\u001b[1;33m.\u001b[0m\u001b[0mmatch\u001b[0m\u001b[1;33m(\u001b[0m\u001b[0msan\u001b[0m\u001b[1;33m)\u001b[0m\u001b[1;33m\u001b[0m\u001b[0m\n\u001b[0m\u001b[1;32m   2743\u001b[0m         \u001b[1;32mif\u001b[0m \u001b[1;32mnot\u001b[0m \u001b[0mmatch\u001b[0m\u001b[1;33m:\u001b[0m\u001b[1;33m\u001b[0m\u001b[0m\n\u001b[1;32m   2744\u001b[0m             \u001b[1;32mraise\u001b[0m \u001b[0mValueError\u001b[0m\u001b[1;33m(\u001b[0m\u001b[1;34m\"invalid san: {0}\"\u001b[0m\u001b[1;33m.\u001b[0m\u001b[0mformat\u001b[0m\u001b[1;33m(\u001b[0m\u001b[0mrepr\u001b[0m\u001b[1;33m(\u001b[0m\u001b[0msan\u001b[0m\u001b[1;33m)\u001b[0m\u001b[1;33m)\u001b[0m\u001b[1;33m)\u001b[0m\u001b[1;33m\u001b[0m\u001b[0m\n",
      "\u001b[0;31mTypeError\u001b[0m: expected string or buffer"
     ]
    }
   ],
   "source": [
    "board.push_san(L[1])"
   ]
  },
  {
   "cell_type": "code",
   "execution_count": 28,
   "metadata": {
    "collapsed": false
   },
   "outputs": [
    {
     "data": {
      "text/plain": [
       "Move.from_uci('b1c3')"
      ]
     },
     "execution_count": 28,
     "metadata": {},
     "output_type": "execute_result"
    }
   ],
   "source": [
    "board.push_uci(str(L[1]))"
   ]
  },
  {
   "cell_type": "code",
   "execution_count": 29,
   "metadata": {
    "collapsed": false
   },
   "outputs": [
    {
     "data": {
      "image/svg+xml": [
       "<svg xmlns=\"http://www.w3.org/2000/svg\" version=\"1.1\" xmlns:xlink=\"http://www.w3.org/1999/xlink\" width=\"400\" height=\"400\"><style>.square.light {\n",
       "  fill: #ffce9e;\n",
       "}\n",
       ".square.dark {\n",
       "  fill: #d18b47;\n",
       "}\n",
       "</style><defs><g id=\"black-pawn\" class=\"black pawn\"><path d=\"M22 9c-2.21 0-4 1.79-4 4 0 .89.29 1.71.78 2.38-1.95 1.12-3.28 3.21-3.28 5.62 0 2.03.94 3.84 2.41 5.03-3 1.06-7.41 5.55-7.41 13.47h23c0-7.92-4.41-12.41-7.41-13.47 1.47-1.19 2.41-3 2.41-5.03 0-2.41-1.33-4.5-3.28-5.62.49-.67.78-1.49.78-2.38 0-2.21-1.79-4-4-4z\" stroke=\"#000\" stroke-width=\"1.5\" stroke-linecap=\"round\"/></g><g id=\"white-bishop\" class=\"white bishop\" fill=\"none\" fill-rule=\"evenodd\" stroke=\"#000\" stroke-width=\"1.5\" stroke-linecap=\"round\" stroke-linejoin=\"round\"><g fill=\"#fff\" stroke-linecap=\"butt\"><path d=\"M9 36c3.39-.97 10.11.43 13.5-2 3.39 2.43 10.11 1.03 13.5 2 0 0 1.65.54 3 2-.68.97-1.65.99-3 .5-3.39-.97-10.11.46-13.5-1-3.39 1.46-10.11.03-13.5 1-1.354.49-2.323.47-3-.5 1.354-1.94 3-2 3-2zM15 32c2.5 2.5 12.5 2.5 15 0 .5-1.5 0-2 0-2 0-2.5-2.5-4-2.5-4 5.5-1.5 6-11.5-5-15.5-11 4-10.5 14-5 15.5 0 0-2.5 1.5-2.5 4 0 0-.5.5 0 2zM25 8a2.5 2.5 0 1 1-5 0 2.5 2.5 0 1 1 5 0z\"/></g><path d=\"M17.5 26h10M15 30h15m-7.5-14.5v5M20 18h5\" stroke-linejoin=\"miter\"/></g><g id=\"white-queen\" class=\"white queen\" fill=\"#fff\" fill-rule=\"evenodd\" stroke=\"#000\" stroke-width=\"1.5\" stroke-linecap=\"round\" stroke-linejoin=\"round\"><path d=\"M8 12a2 2 0 1 1-4 0 2 2 0 1 1 4 0zM24.5 7.5a2 2 0 1 1-4 0 2 2 0 1 1 4 0zM41 12a2 2 0 1 1-4 0 2 2 0 1 1 4 0zM16 8.5a2 2 0 1 1-4 0 2 2 0 1 1 4 0zM33 9a2 2 0 1 1-4 0 2 2 0 1 1 4 0z\"/><path d=\"M9 26c8.5-1.5 21-1.5 27 0l2-12-7 11V11l-5.5 13.5-3-15-3 15-5.5-14V25L7 14l2 12zM9 26c0 2 1.5 2 2.5 4 1 1.5 1 1 .5 3.5-1.5 1-1.5 2.5-1.5 2.5-1.5 1.5.5 2.5.5 2.5 6.5 1 16.5 1 23 0 0 0 1.5-1 0-2.5 0 0 .5-1.5-1-2.5-.5-2.5-.5-2 .5-3.5 1-2 2.5-2 2.5-4-8.5-1.5-18.5-1.5-27 0z\" stroke-linecap=\"butt\"/><path d=\"M11.5 30c3.5-1 18.5-1 22 0M12 33.5c6-1 15-1 21 0\" fill=\"none\"/></g><g id=\"black-bishop\" class=\"black bishop\" fill=\"none\" fill-rule=\"evenodd\" stroke=\"#000\" stroke-width=\"1.5\" stroke-linecap=\"round\" stroke-linejoin=\"round\"><path d=\"M9 36c3.39-.97 10.11.43 13.5-2 3.39 2.43 10.11 1.03 13.5 2 0 0 1.65.54 3 2-.68.97-1.65.99-3 .5-3.39-.97-10.11.46-13.5-1-3.39 1.46-10.11.03-13.5 1-1.354.49-2.323.47-3-.5 1.354-1.94 3-2 3-2zm6-4c2.5 2.5 12.5 2.5 15 0 .5-1.5 0-2 0-2 0-2.5-2.5-4-2.5-4 5.5-1.5 6-11.5-5-15.5-11 4-10.5 14-5 15.5 0 0-2.5 1.5-2.5 4 0 0-.5.5 0 2zM25 8a2.5 2.5 0 1 1-5 0 2.5 2.5 0 1 1 5 0z\" fill=\"#000\" stroke-linecap=\"butt\"/><path d=\"M17.5 26h10M15 30h15m-7.5-14.5v5M20 18h5\" stroke=\"#fff\" stroke-linejoin=\"miter\"/></g><g id=\"black-rook\" class=\"black rook\" fill=\"0\" fill-rule=\"evenodd\" stroke=\"#000\" stroke-width=\"1.5\" stroke-linecap=\"round\" stroke-linejoin=\"round\"><path d=\"M9 39h27v-3H9v3zM12.5 32l1.5-2.5h17l1.5 2.5h-20zM12 36v-4h21v4H12z\" stroke-linecap=\"butt\"/><path d=\"M14 29.5v-13h17v13H14z\" stroke-linecap=\"butt\" stroke-linejoin=\"miter\"/><path d=\"M14 16.5L11 14h23l-3 2.5H14zM11 14V9h4v2h5V9h5v2h5V9h4v5H11z\" stroke-linecap=\"butt\"/><path d=\"M12 35.5h21M13 31.5h19M14 29.5h17M14 16.5h17M11 14h23\" fill=\"none\" stroke=\"#fff\" stroke-width=\"1\" stroke-linejoin=\"miter\"/></g><g id=\"white-knight\" class=\"white knight\" fill=\"none\" fill-rule=\"evenodd\" stroke=\"#000\" stroke-width=\"1.5\" stroke-linecap=\"round\" stroke-linejoin=\"round\"><path d=\"M22 10c10.5 1 16.5 8 16 29H15c0-9 10-6.5 8-21M24 18c.38 2.91-5.55 7.37-8 9-3 2-2.82 4.34-5 4-1.042-.94 1.41-3.04 0-3-1 0 .19 1.23-1 2-1 0-4.003 1-4-4 0-2 6-12 6-12s1.89-1.9 2-3.5c-.73-.994-.5-2-.5-3 1-1 3 2.5 3 2.5h2s.78-1.992 2.5-3c1 0 1 3 1 3\" fill=\"#fff\"/><path d=\"M9.5 25.5a.5.5 0 1 1-1 0 .5.5 0 1 1 1 0zM14.933 15.75a.5 1.5 30 1 1-.866-.5.5 1.5 30 1 1 .866.5z\" fill=\"#000\"/></g><g id=\"white-rook\" class=\"white rook\" fill=\"#fff\" fill-rule=\"evenodd\" stroke=\"#000\" stroke-width=\"1.5\" stroke-linecap=\"round\" stroke-linejoin=\"round\"><path d=\"M9 39h27v-3H9v3zM12 36v-4h21v4H12zM11 14V9h4v2h5V9h5v2h5V9h4v5\" stroke-linecap=\"butt\"/><path d=\"M34 14l-3 3H14l-3-3\"/><path d=\"M31 17v12.5H14V17\" stroke-linecap=\"butt\" stroke-linejoin=\"miter\"/><path d=\"M31 29.5l1.5 2.5h-20l1.5-2.5\"/><path d=\"M11 14h23\" fill=\"none\" stroke-linejoin=\"miter\"/></g><g id=\"white-pawn\" class=\"white pawn\"><path d=\"M22 9c-2.21 0-4 1.79-4 4 0 .89.29 1.71.78 2.38-1.95 1.12-3.28 3.21-3.28 5.62 0 2.03.94 3.84 2.41 5.03-3 1.06-7.41 5.55-7.41 13.47h23c0-7.92-4.41-12.41-7.41-13.47 1.47-1.19 2.41-3 2.41-5.03 0-2.41-1.33-4.5-3.28-5.62.49-.67.78-1.49.78-2.38 0-2.21-1.79-4-4-4z\" fill=\"#fff\" stroke=\"#000\" stroke-width=\"1.5\" stroke-linecap=\"round\"/></g><g id=\"black-knight\" class=\"black knight\" fill=\"none\" fill-rule=\"evenodd\" stroke=\"#000\" stroke-width=\"1.5\" stroke-linecap=\"round\" stroke-linejoin=\"round\"><path d=\"M22 10c10.5 1 16.5 8 16 29H15c0-9 10-6.5 8-21M24 18c.38 2.91-5.55 7.37-8 9-3 2-2.82 4.34-5 4-1.042-.94 1.41-3.04 0-3-1 0 .19 1.23-1 2-1 0-4.003 1-4-4 0-2 6-12 6-12s1.89-1.9 2-3.5c-.73-.994-.5-2-.5-3 1-1 3 2.5 3 2.5h2s.78-1.992 2.5-3c1 0 1 3 1 3\" fill=\"#000\"/><path d=\"M9.5 25.5a.5.5 0 1 1-1 0 .5.5 0 1 1 1 0zM14.933 15.75a.5 1.5 30 1 1-.866-.5.5 1.5 30 1 1 .866.5z\" fill=\"#fff\" stroke=\"#fff\"/><path d=\"M24.55 10.4l-.45 1.45.5.15c3.15 1 5.65 2.49 7.9 6.75S35.75 29.06 35.25 39l-.05.5h2.25l.05-.5c.5-10.06-.88-16.85-3.25-21.34-2.37-4.49-5.79-6.64-9.19-7.16l-.51-.1z\" fill=\"#fff\" stroke=\"none\"/></g><g id=\"black-king\" class=\"black king\" fill=\"none\" fill-rule=\"evenodd\" stroke=\"#000\" stroke-width=\"1.5\" stroke-linecap=\"round\" stroke-linejoin=\"round\"><path d=\"M22.5 11.63V6\" stroke-linejoin=\"miter\"/><path d=\"M22.5 25s4.5-7.5 3-10.5c0 0-1-2.5-3-2.5s-3 2.5-3 2.5c-1.5 3 3 10.5 3 10.5\" fill=\"#000\" stroke-linecap=\"butt\" stroke-linejoin=\"miter\"/><path d=\"M11.5 37c5.5 3.5 15.5 3.5 21 0v-7s9-4.5 6-10.5c-4-6.5-13.5-3.5-16 4V27v-3.5c-3.5-7.5-13-10.5-16-4-3 6 5 10 5 10V37z\" fill=\"#000\"/><path d=\"M20 8h5\" stroke-linejoin=\"miter\"/><path d=\"M32 29.5s8.5-4 6.03-9.65C34.15 14 25 18 22.5 24.5l.01 2.1-.01-2.1C20 18 9.906 14 6.997 19.85c-2.497 5.65 4.853 9 4.853 9M11.5 30c5.5-3 15.5-3 21 0m-21 3.5c5.5-3 15.5-3 21 0m-21 3.5c5.5-3 15.5-3 21 0\" stroke=\"#fff\"/></g><g id=\"black-queen\" class=\"black-queen\" fill=\"0\" fill-rule=\"evenodd\" stroke=\"#000\" stroke-width=\"1.5\" stroke-linecap=\"round\" stroke-linejoin=\"round\"><g fill=\"#000\" stroke=\"none\"><circle cx=\"6\" cy=\"12\" r=\"2.75\"/><circle cx=\"14\" cy=\"9\" r=\"2.75\"/><circle cx=\"22.5\" cy=\"8\" r=\"2.75\"/><circle cx=\"31\" cy=\"9\" r=\"2.75\"/><circle cx=\"39\" cy=\"12\" r=\"2.75\"/></g><path d=\"M9 26c8.5-1.5 21-1.5 27 0l2.5-12.5L31 25l-.3-14.1-5.2 13.6-3-14.5-3 14.5-5.2-13.6L14 25 6.5 13.5 9 26zM9 26c0 2 1.5 2 2.5 4 1 1.5 1 1 .5 3.5-1.5 1-1.5 2.5-1.5 2.5-1.5 1.5.5 2.5.5 2.5 6.5 1 16.5 1 23 0 0 0 1.5-1 0-2.5 0 0 .5-1.5-1-2.5-.5-2.5-.5-2 .5-3.5 1-2 2.5-2 2.5-4-8.5-1.5-18.5-1.5-27 0z\" stroke-linecap=\"butt\"/><path d=\"M11 38.5a35 35 1 0 0 23 0\" fill=\"none\" stroke-linecap=\"butt\"/><path d=\"M11 29a35 35 1 0 1 23 0M12.5 31.5h20M11.5 34.5a35 35 1 0 0 22 0M10.5 37.5a35 35 1 0 0 24 0\" fill=\"none\" stroke=\"#fff\"/></g><g id=\"white-king\" class=\"white king\" fill=\"none\" fill-rule=\"evenodd\" stroke=\"#000\" stroke-width=\"1.5\" stroke-linecap=\"round\" stroke-linejoin=\"round\"><path d=\"M22.5 11.63V6M20 8h5\" stroke-linejoin=\"miter\"/><path d=\"M22.5 25s4.5-7.5 3-10.5c0 0-1-2.5-3-2.5s-3 2.5-3 2.5c-1.5 3 3 10.5 3 10.5\" fill=\"#fff\" stroke-linecap=\"butt\" stroke-linejoin=\"miter\"/><path d=\"M11.5 37c5.5 3.5 15.5 3.5 21 0v-7s9-4.5 6-10.5c-4-6.5-13.5-3.5-16 4V27v-3.5c-3.5-7.5-13-10.5-16-4-3 6 5 10 5 10V37z\" fill=\"#fff\"/><path d=\"M11.5 30c5.5-3 15.5-3 21 0m-21 3.5c5.5-3 15.5-3 21 0m-21 3.5c5.5-3 15.5-3 21 0\"/></g></defs><rect x=\"20\" y=\"335\" class=\"square dark a1\" width=\"45\" height=\"45\" style=\"stroke: none;\" /><use xlink:href=\"#white-rook\" x=\"20\" y=\"335\" /><rect x=\"65\" y=\"335\" class=\"square light b1\" width=\"45\" height=\"45\" style=\"stroke: none;\" /><rect x=\"110\" y=\"335\" class=\"square dark c1\" width=\"45\" height=\"45\" style=\"stroke: none;\" /><use xlink:href=\"#white-bishop\" x=\"110\" y=\"335\" /><rect x=\"155\" y=\"335\" class=\"square light d1\" width=\"45\" height=\"45\" style=\"stroke: none;\" /><use xlink:href=\"#white-queen\" x=\"155\" y=\"335\" /><rect x=\"200\" y=\"335\" class=\"square dark e1\" width=\"45\" height=\"45\" style=\"stroke: none;\" /><use xlink:href=\"#white-king\" x=\"200\" y=\"335\" /><rect x=\"245\" y=\"335\" class=\"square light f1\" width=\"45\" height=\"45\" style=\"stroke: none;\" /><use xlink:href=\"#white-bishop\" x=\"245\" y=\"335\" /><rect x=\"290\" y=\"335\" class=\"square dark g1\" width=\"45\" height=\"45\" style=\"stroke: none;\" /><use xlink:href=\"#white-knight\" x=\"290\" y=\"335\" /><rect x=\"335\" y=\"335\" class=\"square light h1\" width=\"45\" height=\"45\" style=\"stroke: none;\" /><use xlink:href=\"#white-rook\" x=\"335\" y=\"335\" /><rect x=\"20\" y=\"290\" class=\"square light a2\" width=\"45\" height=\"45\" style=\"stroke: none;\" /><use xlink:href=\"#white-pawn\" x=\"20\" y=\"290\" /><rect x=\"65\" y=\"290\" class=\"square dark b2\" width=\"45\" height=\"45\" style=\"stroke: none;\" /><use xlink:href=\"#white-pawn\" x=\"65\" y=\"290\" /><rect x=\"110\" y=\"290\" class=\"square light c2\" width=\"45\" height=\"45\" style=\"stroke: none;\" /><use xlink:href=\"#white-pawn\" x=\"110\" y=\"290\" /><rect x=\"155\" y=\"290\" class=\"square dark d2\" width=\"45\" height=\"45\" style=\"stroke: none;\" /><use xlink:href=\"#white-pawn\" x=\"155\" y=\"290\" /><rect x=\"200\" y=\"290\" class=\"square light e2\" width=\"45\" height=\"45\" style=\"stroke: none;\" /><use xlink:href=\"#white-pawn\" x=\"200\" y=\"290\" /><rect x=\"245\" y=\"290\" class=\"square dark f2\" width=\"45\" height=\"45\" style=\"stroke: none;\" /><use xlink:href=\"#white-pawn\" x=\"245\" y=\"290\" /><rect x=\"290\" y=\"290\" class=\"square light g2\" width=\"45\" height=\"45\" style=\"stroke: none;\" /><use xlink:href=\"#white-pawn\" x=\"290\" y=\"290\" /><rect x=\"335\" y=\"290\" class=\"square dark h2\" width=\"45\" height=\"45\" style=\"stroke: none;\" /><use xlink:href=\"#white-pawn\" x=\"335\" y=\"290\" /><rect x=\"20\" y=\"245\" class=\"square dark a3\" width=\"45\" height=\"45\" style=\"stroke: none;\" /><rect x=\"65\" y=\"245\" class=\"square light b3\" width=\"45\" height=\"45\" style=\"stroke: none;\" /><rect x=\"110\" y=\"245\" class=\"square dark c3\" width=\"45\" height=\"45\" style=\"stroke: none;\" /><use xlink:href=\"#white-knight\" x=\"110\" y=\"245\" /><rect x=\"155\" y=\"245\" class=\"square light d3\" width=\"45\" height=\"45\" style=\"stroke: none;\" /><rect x=\"200\" y=\"245\" class=\"square dark e3\" width=\"45\" height=\"45\" style=\"stroke: none;\" /><rect x=\"245\" y=\"245\" class=\"square light f3\" width=\"45\" height=\"45\" style=\"stroke: none;\" /><rect x=\"290\" y=\"245\" class=\"square dark g3\" width=\"45\" height=\"45\" style=\"stroke: none;\" /><rect x=\"335\" y=\"245\" class=\"square light h3\" width=\"45\" height=\"45\" style=\"stroke: none;\" /><rect x=\"20\" y=\"200\" class=\"square light a4\" width=\"45\" height=\"45\" style=\"stroke: none;\" /><rect x=\"65\" y=\"200\" class=\"square dark b4\" width=\"45\" height=\"45\" style=\"stroke: none;\" /><rect x=\"110\" y=\"200\" class=\"square light c4\" width=\"45\" height=\"45\" style=\"stroke: none;\" /><rect x=\"155\" y=\"200\" class=\"square dark d4\" width=\"45\" height=\"45\" style=\"stroke: none;\" /><rect x=\"200\" y=\"200\" class=\"square light e4\" width=\"45\" height=\"45\" style=\"stroke: none;\" /><rect x=\"245\" y=\"200\" class=\"square dark f4\" width=\"45\" height=\"45\" style=\"stroke: none;\" /><rect x=\"290\" y=\"200\" class=\"square light g4\" width=\"45\" height=\"45\" style=\"stroke: none;\" /><rect x=\"335\" y=\"200\" class=\"square dark h4\" width=\"45\" height=\"45\" style=\"stroke: none;\" /><rect x=\"20\" y=\"155\" class=\"square dark a5\" width=\"45\" height=\"45\" style=\"stroke: none;\" /><rect x=\"65\" y=\"155\" class=\"square light b5\" width=\"45\" height=\"45\" style=\"stroke: none;\" /><rect x=\"110\" y=\"155\" class=\"square dark c5\" width=\"45\" height=\"45\" style=\"stroke: none;\" /><rect x=\"155\" y=\"155\" class=\"square light d5\" width=\"45\" height=\"45\" style=\"stroke: none;\" /><rect x=\"200\" y=\"155\" class=\"square dark e5\" width=\"45\" height=\"45\" style=\"stroke: none;\" /><rect x=\"245\" y=\"155\" class=\"square light f5\" width=\"45\" height=\"45\" style=\"stroke: none;\" /><rect x=\"290\" y=\"155\" class=\"square dark g5\" width=\"45\" height=\"45\" style=\"stroke: none;\" /><rect x=\"335\" y=\"155\" class=\"square light h5\" width=\"45\" height=\"45\" style=\"stroke: none;\" /><rect x=\"20\" y=\"110\" class=\"square light a6\" width=\"45\" height=\"45\" style=\"stroke: none;\" /><rect x=\"65\" y=\"110\" class=\"square dark b6\" width=\"45\" height=\"45\" style=\"stroke: none;\" /><rect x=\"110\" y=\"110\" class=\"square light c6\" width=\"45\" height=\"45\" style=\"stroke: none;\" /><rect x=\"155\" y=\"110\" class=\"square dark d6\" width=\"45\" height=\"45\" style=\"stroke: none;\" /><rect x=\"200\" y=\"110\" class=\"square light e6\" width=\"45\" height=\"45\" style=\"stroke: none;\" /><rect x=\"245\" y=\"110\" class=\"square dark f6\" width=\"45\" height=\"45\" style=\"stroke: none;\" /><rect x=\"290\" y=\"110\" class=\"square light g6\" width=\"45\" height=\"45\" style=\"stroke: none;\" /><rect x=\"335\" y=\"110\" class=\"square dark h6\" width=\"45\" height=\"45\" style=\"stroke: none;\" /><rect x=\"20\" y=\"65\" class=\"square dark a7\" width=\"45\" height=\"45\" style=\"stroke: none;\" /><use xlink:href=\"#black-pawn\" x=\"20\" y=\"65\" /><rect x=\"65\" y=\"65\" class=\"square light b7\" width=\"45\" height=\"45\" style=\"stroke: none;\" /><use xlink:href=\"#black-pawn\" x=\"65\" y=\"65\" /><rect x=\"110\" y=\"65\" class=\"square dark c7\" width=\"45\" height=\"45\" style=\"stroke: none;\" /><use xlink:href=\"#black-pawn\" x=\"110\" y=\"65\" /><rect x=\"155\" y=\"65\" class=\"square light d7\" width=\"45\" height=\"45\" style=\"stroke: none;\" /><use xlink:href=\"#black-pawn\" x=\"155\" y=\"65\" /><rect x=\"200\" y=\"65\" class=\"square dark e7\" width=\"45\" height=\"45\" style=\"stroke: none;\" /><use xlink:href=\"#black-pawn\" x=\"200\" y=\"65\" /><rect x=\"245\" y=\"65\" class=\"square light f7\" width=\"45\" height=\"45\" style=\"stroke: none;\" /><use xlink:href=\"#black-pawn\" x=\"245\" y=\"65\" /><rect x=\"290\" y=\"65\" class=\"square dark g7\" width=\"45\" height=\"45\" style=\"stroke: none;\" /><use xlink:href=\"#black-pawn\" x=\"290\" y=\"65\" /><rect x=\"335\" y=\"65\" class=\"square light h7\" width=\"45\" height=\"45\" style=\"stroke: none;\" /><use xlink:href=\"#black-pawn\" x=\"335\" y=\"65\" /><rect x=\"20\" y=\"20\" class=\"square light a8\" width=\"45\" height=\"45\" style=\"stroke: none;\" /><use xlink:href=\"#black-rook\" x=\"20\" y=\"20\" /><rect x=\"65\" y=\"20\" class=\"square dark b8\" width=\"45\" height=\"45\" style=\"stroke: none;\" /><use xlink:href=\"#black-knight\" x=\"65\" y=\"20\" /><rect x=\"110\" y=\"20\" class=\"square light c8\" width=\"45\" height=\"45\" style=\"stroke: none;\" /><use xlink:href=\"#black-bishop\" x=\"110\" y=\"20\" /><rect x=\"155\" y=\"20\" class=\"square dark d8\" width=\"45\" height=\"45\" style=\"stroke: none;\" /><use xlink:href=\"#black-queen\" x=\"155\" y=\"20\" /><rect x=\"200\" y=\"20\" class=\"square light e8\" width=\"45\" height=\"45\" style=\"stroke: none;\" /><use xlink:href=\"#black-king\" x=\"200\" y=\"20\" /><rect x=\"245\" y=\"20\" class=\"square dark f8\" width=\"45\" height=\"45\" style=\"stroke: none;\" /><use xlink:href=\"#black-bishop\" x=\"245\" y=\"20\" /><rect x=\"290\" y=\"20\" class=\"square light g8\" width=\"45\" height=\"45\" style=\"stroke: none;\" /><use xlink:href=\"#black-knight\" x=\"290\" y=\"20\" /><rect x=\"335\" y=\"20\" class=\"square dark h8\" width=\"45\" height=\"45\" style=\"stroke: none;\" /><use xlink:href=\"#black-rook\" x=\"335\" y=\"20\" /><text x=\"42\" y=\"10\" text-anchor=\"middle\" alignment-baseline=\"middle\" font-size=\"14\">a</text><text x=\"42\" y=\"390\" text-anchor=\"middle\" alignment-baseline=\"middle\" font-size=\"14\">a</text><text x=\"87\" y=\"10\" text-anchor=\"middle\" alignment-baseline=\"middle\" font-size=\"14\">b</text><text x=\"87\" y=\"390\" text-anchor=\"middle\" alignment-baseline=\"middle\" font-size=\"14\">b</text><text x=\"132\" y=\"10\" text-anchor=\"middle\" alignment-baseline=\"middle\" font-size=\"14\">c</text><text x=\"132\" y=\"390\" text-anchor=\"middle\" alignment-baseline=\"middle\" font-size=\"14\">c</text><text x=\"177\" y=\"10\" text-anchor=\"middle\" alignment-baseline=\"middle\" font-size=\"14\">d</text><text x=\"177\" y=\"390\" text-anchor=\"middle\" alignment-baseline=\"middle\" font-size=\"14\">d</text><text x=\"222\" y=\"10\" text-anchor=\"middle\" alignment-baseline=\"middle\" font-size=\"14\">e</text><text x=\"222\" y=\"390\" text-anchor=\"middle\" alignment-baseline=\"middle\" font-size=\"14\">e</text><text x=\"267\" y=\"10\" text-anchor=\"middle\" alignment-baseline=\"middle\" font-size=\"14\">f</text><text x=\"267\" y=\"390\" text-anchor=\"middle\" alignment-baseline=\"middle\" font-size=\"14\">f</text><text x=\"312\" y=\"10\" text-anchor=\"middle\" alignment-baseline=\"middle\" font-size=\"14\">g</text><text x=\"312\" y=\"390\" text-anchor=\"middle\" alignment-baseline=\"middle\" font-size=\"14\">g</text><text x=\"357\" y=\"10\" text-anchor=\"middle\" alignment-baseline=\"middle\" font-size=\"14\">h</text><text x=\"357\" y=\"390\" text-anchor=\"middle\" alignment-baseline=\"middle\" font-size=\"14\">h</text><text x=\"10\" y=\"357\" text-anchor=\"middle\" alignment-baseline=\"middle\" font-size=\"14\">1</text><text x=\"390\" y=\"357\" text-anchor=\"middle\" alignment-baseline=\"middle\" font-size=\"14\">1</text><text x=\"10\" y=\"312\" text-anchor=\"middle\" alignment-baseline=\"middle\" font-size=\"14\">2</text><text x=\"390\" y=\"312\" text-anchor=\"middle\" alignment-baseline=\"middle\" font-size=\"14\">2</text><text x=\"10\" y=\"267\" text-anchor=\"middle\" alignment-baseline=\"middle\" font-size=\"14\">3</text><text x=\"390\" y=\"267\" text-anchor=\"middle\" alignment-baseline=\"middle\" font-size=\"14\">3</text><text x=\"10\" y=\"222\" text-anchor=\"middle\" alignment-baseline=\"middle\" font-size=\"14\">4</text><text x=\"390\" y=\"222\" text-anchor=\"middle\" alignment-baseline=\"middle\" font-size=\"14\">4</text><text x=\"10\" y=\"177\" text-anchor=\"middle\" alignment-baseline=\"middle\" font-size=\"14\">5</text><text x=\"390\" y=\"177\" text-anchor=\"middle\" alignment-baseline=\"middle\" font-size=\"14\">5</text><text x=\"10\" y=\"132\" text-anchor=\"middle\" alignment-baseline=\"middle\" font-size=\"14\">6</text><text x=\"390\" y=\"132\" text-anchor=\"middle\" alignment-baseline=\"middle\" font-size=\"14\">6</text><text x=\"10\" y=\"87\" text-anchor=\"middle\" alignment-baseline=\"middle\" font-size=\"14\">7</text><text x=\"390\" y=\"87\" text-anchor=\"middle\" alignment-baseline=\"middle\" font-size=\"14\">7</text><text x=\"10\" y=\"42\" text-anchor=\"middle\" alignment-baseline=\"middle\" font-size=\"14\">8</text><text x=\"390\" y=\"42\" text-anchor=\"middle\" alignment-baseline=\"middle\" font-size=\"14\">8</text></svg>"
      ],
      "text/plain": [
       "Board('rnbqkbnr/pppppppp/8/8/8/2N5/PPPPPPPP/R1BQKBNR b KQkq - 1 1')"
      ]
     },
     "execution_count": 29,
     "metadata": {},
     "output_type": "execute_result"
    }
   ],
   "source": [
    "board"
   ]
  },
  {
   "cell_type": "raw",
   "metadata": {},
   "source": []
  },
  {
   "cell_type": "code",
   "execution_count": null,
   "metadata": {
    "collapsed": false
   },
   "outputs": [],
   "source": []
  }
 ],
 "metadata": {
  "kernelspec": {
   "display_name": "Python 3",
   "language": "python",
   "name": "python3"
  },
  "language_info": {
   "codemirror_mode": {
    "name": "ipython",
    "version": 3
   },
   "file_extension": ".py",
   "mimetype": "text/x-python",
   "name": "python",
   "nbconvert_exporter": "python",
   "pygments_lexer": "ipython3",
   "version": "3.4.1"
  }
 },
 "nbformat": 4,
 "nbformat_minor": 1
}
